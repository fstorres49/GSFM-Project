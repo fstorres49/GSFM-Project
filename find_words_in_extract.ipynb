{
 "cells": [
  {
   "cell_type": "markdown",
   "id": "ceac6db2",
   "metadata": {},
   "source": [
    "# Regular expression doesn't work for html\n",
    "check https://stackoverflow.com/questions/590747/using-regular-expressions-to-parse-html-why-not"
   ]
  },
  {
   "cell_type": "markdown",
   "id": "e8d7bf7f",
   "metadata": {},
   "source": [
    "# Trying solely with beautiful soup"
   ]
  },
  {
   "cell_type": "code",
   "execution_count": 1,
   "id": "0500ee44",
   "metadata": {},
   "outputs": [],
   "source": [
    "from urllib.request import urlopen\n",
    "from bs4 import BeautifulSoup\n",
    "import re\n",
    "\n",
    "url = \"file:///Users/zhangyumeng/Desktop/GSFM/Keyword%20search%20results/748268_8-K_2020-10-05_0001554795-20-000254.html\"\n",
    "html = urlopen(url).read()\n",
    "soup = BeautifulSoup(html,\"html5lib\")"
   ]
  },
  {
   "cell_type": "code",
   "execution_count": 2,
   "id": "e7401428",
   "metadata": {},
   "outputs": [
    {
     "name": "stdout",
     "output_type": "stream",
     "text": [
      "Found the word \"storage\" 1 times\n",
      "\n"
     ]
    }
   ],
   "source": [
    "searched_word ='storage'\n",
    "results = soup.body.find_all(string=re.compile('.*{0}.*'.format(searched_word)), recursive=True)\n",
    "print('Found the word \"{0}\" {1} times\\n'.format(searched_word, len(results)))"
   ]
  },
  {
   "cell_type": "code",
   "execution_count": 3,
   "id": "a749e056",
   "metadata": {},
   "outputs": [],
   "source": [
    "from urllib.request import urlopen\n",
    "from bs4 import BeautifulSoup\n",
    "import os\n",
    "import pandas as pd\n",
    "def process_html(path,searched_word):\n",
    "    html_files = os.listdir(path)\n",
    "    dict_for_words = {}\n",
    "    for word in searched_words:\n",
    "        lst = []\n",
    "        for file in html_files:\n",
    "            f = os.path.join(path, file)\n",
    "            url = 'file://' + f\n",
    "            html = urlopen(url).read()\n",
    "            soup = BeautifulSoup(html,\"html5lib\")\n",
    "            results = soup.body.find_all(string=re.compile('.*{0}.*'.format(word)))\n",
    "            if len(results) > 0:\n",
    "                lst.append(file) \n",
    "        dict_for_words[word] = lst\n",
    "    return dict_for_words"
   ]
  },
  {
   "cell_type": "code",
   "execution_count": 4,
   "id": "ede577a4",
   "metadata": {},
   "outputs": [],
   "source": [
    "searched_words = ['storage','blockchain']\n",
    "path = '/Users/zhangyumeng/Desktop/GSFM/Keyword search results'"
   ]
  },
  {
   "cell_type": "code",
   "execution_count": 5,
   "id": "eb4d661d",
   "metadata": {},
   "outputs": [
    {
     "data": {
      "text/plain": [
       "{'storage': ['748268_8-K_2020-10-05_0001554795-20-000254.html',\n",
       "  '1519177_8-K_2020-11-30_0001654954-20-013021.html'],\n",
       " 'blockchain': ['1167419_8-K_2020-04-14_0001079973-20-000289.html',\n",
       "  '823546_8-K_2020-05-05_0001493152-20-007691.html',\n",
       "  '1629261_8-K_2020-01-23_0001493152-20-000953.html',\n",
       "  '1519177_8-K_2020-08-11_0001654954-20-008847.html',\n",
       "  '1167419_8-K_2020-02-14_0001079973-20-000113.html',\n",
       "  '1795851_8-K_2020-02-04_0001213900-20-002531.html',\n",
       "  '1352952_8-K_2020-04-07_0001437749-20-007236.html',\n",
       "  '1167419_8-K_2020-08-27_0001079973-20-000750.html',\n",
       "  '1688126_8-K_2020-03-30_0001493152-20-004995.html',\n",
       "  '1167419_8-K_2020-07-21_0001079973-20-000602.html',\n",
       "  '1658304_8-K_2020-06-22_0001477932-20-003487.html',\n",
       "  '1606698_8-K_2020-12-02_0001096906-20-000407.html',\n",
       "  '1167419_8-K_2020-04-20_0001079973-20-000303.html',\n",
       "  '1635748_8-K_2020-07-21_0001079973-20-000605.html',\n",
       "  '1749849_8-K_2020-11-12_0001213900-20-036318.html',\n",
       "  '1167419_8-K_2020-08-18_0001079973-20-000723.html',\n",
       "  '1167419_8-K_2020-11-18_0001079973-20-001009.html',\n",
       "  '1813793_8-K_2020-09-28_0001663577-20-000339.html',\n",
       "  '1167419_8-K_2020-01-13_0001079973-20-000011.html',\n",
       "  '1606698_8-K_2020-08-14_0001445866-20-001175.html',\n",
       "  '1577882_8-K_2020-06-22_0001577882-20-000014.html',\n",
       "  '1730869_8-K_2020-05-13_0001609876-20-000008.html',\n",
       "  '1730869_8-K_2020-05-14_0001609876-20-000009.html',\n",
       "  '941685_8-K_2020-07-01_0001654954-20-007237.html',\n",
       "  '1575345_8-K_2020-07-17_0001161697-20-000325.html',\n",
       "  '1167419_8-K_2020-05-05_0001079973-20-000342.html',\n",
       "  '1167419_8-K_2020-02-11_0001079973-20-000099.html',\n",
       "  '823546_8-K_2020-10-08_0001493152-20-019135.html',\n",
       "  '1442999_8-K_2020-12-08_0001663577-20-000451.html',\n",
       "  '1641398_8-K_2020-01-03_0001213900-20-000164.html',\n",
       "  '1389518_8-K_2020-08-11_0001493152-20-015230.html',\n",
       "  '1748621_8-K_2020-03-09_0001213900-20-005720.html',\n",
       "  '1167419_8-K_2020-11-16_0001079973-20-000989.html',\n",
       "  '748268_8-K_2020-10-05_0001554795-20-000254.html',\n",
       "  '1086745_8-K_2020-05-29_0001493152-20-010091.html',\n",
       "  '1167419_8-K_2020-10-07_0001079973-20-000869.html',\n",
       "  '1688126_8-K_2020-05-15_0001493152-20-008905.html',\n",
       "  '1167419_8-K_2020-02-26_0001079973-20-000134.html',\n",
       "  '1519177_8-K_2020-11-30_0001654954-20-013021.html',\n",
       "  '1167419_8-K_2020-06-05_0001079973-20-000478.html',\n",
       "  '1415684_8-K_2020-04-24_0001654954-20-004398.html',\n",
       "  '1167419_8-K_2020-02-03_0001079973-20-000074.html',\n",
       "  '1167419_8-K_2020-12-17_0001079973-20-001085.html',\n",
       "  '1606698_8-K_2020-07-08_0001445866-20-000971.html',\n",
       "  '1167419_8-K_2020-06-16_0001079973-20-000508.html',\n",
       "  '1167419_8-K_2020-05-12_0001079973-20-000385.html',\n",
       "  '945983_8-K_2020-08-06_0001558370-20-009725.html',\n",
       "  '1748401_8-K_2020-09-22_0001121781-20-000069.html',\n",
       "  '1389518_8-K_2020-11-12_0001493152-20-021087.html',\n",
       "  '1600347_8-K_2020-09-08_0001654954-20-009872.html',\n",
       "  '823546_8-K_2020-09-21_0001493152-20-018061.html',\n",
       "  '1641398_8-K_2020-02-26_0001213900-20-004833.html',\n",
       "  '1614826_8-K_2020-01-16_0001493152-20-000668.html',\n",
       "  '1575345_8-K_2020-07-13_0001161697-20-000304.html',\n",
       "  '1130713_8-K_2020-02-19_0001130713-20-000004.html',\n",
       "  '1697412_8-K_2020-12-01_0001213900-20-040099.html',\n",
       "  '823546_8-K_2020-10-13_0001493152-20-019283.html',\n",
       "  '1629261_8-K_2020-02-20_0001493152-20-002786.html',\n",
       "  '1419275_8-K_2020-01-07_0001185185-20-000027.html',\n",
       "  '1588489_8-K_2020-02-14_0001193125-20-038228.html',\n",
       "  '1813793_8-K_2020-09-23_0001663577-20-000335.html',\n",
       "  '1167419_8-K_2020-12-22_0001079973-20-001096.html',\n",
       "  '1515139_8-K_2020-02-12_0001493152-20-002014.html']}"
      ]
     },
     "execution_count": 5,
     "metadata": {},
     "output_type": "execute_result"
    }
   ],
   "source": [
    " process_html(path,searched_word)"
   ]
  },
  {
   "cell_type": "code",
   "execution_count": null,
   "id": "6f1e9538",
   "metadata": {},
   "outputs": [],
   "source": []
  }
 ],
 "metadata": {
  "kernelspec": {
   "display_name": "Python 3 (ipykernel)",
   "language": "python",
   "name": "python3"
  },
  "language_info": {
   "codemirror_mode": {
    "name": "ipython",
    "version": 3
   },
   "file_extension": ".py",
   "mimetype": "text/x-python",
   "name": "python",
   "nbconvert_exporter": "python",
   "pygments_lexer": "ipython3",
   "version": "3.9.7"
  }
 },
 "nbformat": 4,
 "nbformat_minor": 5
}
