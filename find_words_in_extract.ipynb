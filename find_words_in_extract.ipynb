{
 "cells": [
  {
   "cell_type": "markdown",
   "id": "ceac6db2",
   "metadata": {},
   "source": [
    "# Regular expression doesn't work for html\n",
    "check https://stackoverflow.com/questions/590747/using-regular-expressions-to-parse-html-why-not"
   ]
  },
  {
   "cell_type": "markdown",
   "id": "e8d7bf7f",
   "metadata": {},
   "source": [
    "# Trying solely with beautiful soup"
   ]
  },
  {
   "cell_type": "code",
   "execution_count": 1,
   "id": "0500ee44",
   "metadata": {},
   "outputs": [],
   "source": [
    "from urllib.request import urlopen\n",
    "from bs4 import BeautifulSoup\n",
    "import re\n",
    "\n",
    "url = \"file:///Users/zhangyumeng/Desktop/GSFM/Keyword%20search%20results/748268_8-K_2020-10-05_0001554795-20-000254.html\"\n",
    "html = urlopen(url).read()\n",
    "soup = BeautifulSoup(html,\"html5lib\")"
   ]
  },
  {
   "cell_type": "code",
   "execution_count": 2,
   "id": "aa6ee1d4",
   "metadata": {},
   "outputs": [
    {
     "data": {
      "text/plain": [
       "'Red Cat Holdings Inc '"
      ]
     },
     "execution_count": 2,
     "metadata": {},
     "output_type": "execute_result"
    }
   ],
   "source": [
    "soup.br.next_sibling.replace('Company Name: ','')"
   ]
  },
  {
   "cell_type": "code",
   "execution_count": 3,
   "id": "e7401428",
   "metadata": {},
   "outputs": [
    {
     "name": "stdout",
     "output_type": "stream",
     "text": [
      "Found the word \"storage\" 1 times\n",
      "\n"
     ]
    }
   ],
   "source": [
    "searched_word ='storage'\n",
    "results = soup.body.find_all(string=re.compile('.*{0}.*'.format(searched_word)), recursive=True)\n",
    "print('Found the word \"{0}\" {1} times\\n'.format(searched_word, len(results)))"
   ]
  },
  {
   "cell_type": "code",
   "execution_count": 4,
   "id": "a749e056",
   "metadata": {},
   "outputs": [],
   "source": [
    "from urllib.request import urlopen\n",
    "from bs4 import BeautifulSoup\n",
    "import os\n",
    "import pandas as pd\n",
    "import re\n",
    "def process_html(path,searched_words):\n",
    "    html_files = os.listdir(path)\n",
    "    dict_for_words = {}\n",
    "    for word in searched_words:\n",
    "        lst = []\n",
    "        for file in html_files:\n",
    "            f = os.path.join(path, file)\n",
    "            url = 'file://' + f\n",
    "            html = urlopen(url).read()\n",
    "            soup = BeautifulSoup(html,\"html5lib\")\n",
    "            results = soup.body.find_all(string=re.compile('.*{0}.*'.format(word)))\n",
    "            if len(results) > 0:\n",
    "                lst.append(soup.br.next_sibling.replace('Company Name: ','')) \n",
    "        dict_for_words[word] = pd.Series(lst)\n",
    "        df = pd.DataFrame.from_dict(dict_for_words)\n",
    "    return df"
   ]
  },
  {
   "cell_type": "code",
   "execution_count": 7,
   "id": "ede577a4",
   "metadata": {},
   "outputs": [],
   "source": [
    "searched_words = ['storage','accounting']\n",
    "path = '/Users/zhangyumeng/Desktop/GSFM/Keyword search results'"
   ]
  },
  {
   "cell_type": "code",
   "execution_count": 8,
   "id": "eb4d661d",
   "metadata": {},
   "outputs": [
    {
     "data": {
      "text/html": [
       "<div>\n",
       "<style scoped>\n",
       "    .dataframe tbody tr th:only-of-type {\n",
       "        vertical-align: middle;\n",
       "    }\n",
       "\n",
       "    .dataframe tbody tr th {\n",
       "        vertical-align: top;\n",
       "    }\n",
       "\n",
       "    .dataframe thead th {\n",
       "        text-align: right;\n",
       "    }\n",
       "</style>\n",
       "<table border=\"1\" class=\"dataframe\">\n",
       "  <thead>\n",
       "    <tr style=\"text-align: right;\">\n",
       "      <th></th>\n",
       "      <th>storage</th>\n",
       "      <th>accounting</th>\n",
       "    </tr>\n",
       "  </thead>\n",
       "  <tbody>\n",
       "    <tr>\n",
       "      <th>0</th>\n",
       "      <td>Red Cat Holdings Inc</td>\n",
       "      <td>Riot Blockchain Inc</td>\n",
       "    </tr>\n",
       "    <tr>\n",
       "      <th>1</th>\n",
       "      <td>SOLLENSYS CORP</td>\n",
       "      <td>Long Blockchain Corp</td>\n",
       "    </tr>\n",
       "    <tr>\n",
       "      <th>2</th>\n",
       "      <td>NaN</td>\n",
       "      <td>Riot Blockchain Inc</td>\n",
       "    </tr>\n",
       "    <tr>\n",
       "      <th>3</th>\n",
       "      <td>NaN</td>\n",
       "      <td>Riot Blockchain Inc</td>\n",
       "    </tr>\n",
       "    <tr>\n",
       "      <th>4</th>\n",
       "      <td>NaN</td>\n",
       "      <td>Riot Blockchain Inc</td>\n",
       "    </tr>\n",
       "    <tr>\n",
       "      <th>5</th>\n",
       "      <td>NaN</td>\n",
       "      <td>Vortex Blockchain Technologies Inc</td>\n",
       "    </tr>\n",
       "    <tr>\n",
       "      <th>6</th>\n",
       "      <td>NaN</td>\n",
       "      <td>Riot Blockchain Inc</td>\n",
       "    </tr>\n",
       "    <tr>\n",
       "      <th>7</th>\n",
       "      <td>NaN</td>\n",
       "      <td>Riot Blockchain Inc</td>\n",
       "    </tr>\n",
       "    <tr>\n",
       "      <th>8</th>\n",
       "      <td>NaN</td>\n",
       "      <td>Riot Blockchain Inc</td>\n",
       "    </tr>\n",
       "    <tr>\n",
       "      <th>9</th>\n",
       "      <td>NaN</td>\n",
       "      <td>Riot Blockchain Inc</td>\n",
       "    </tr>\n",
       "    <tr>\n",
       "      <th>10</th>\n",
       "      <td>NaN</td>\n",
       "      <td>Riot Blockchain Inc</td>\n",
       "    </tr>\n",
       "    <tr>\n",
       "      <th>11</th>\n",
       "      <td>NaN</td>\n",
       "      <td>Long Blockchain Corp</td>\n",
       "    </tr>\n",
       "  </tbody>\n",
       "</table>\n",
       "</div>"
      ],
      "text/plain": [
       "                  storage                           accounting\n",
       "0   Red Cat Holdings Inc                  Riot Blockchain Inc \n",
       "1         SOLLENSYS CORP                 Long Blockchain Corp \n",
       "2                     NaN                 Riot Blockchain Inc \n",
       "3                     NaN                 Riot Blockchain Inc \n",
       "4                     NaN                 Riot Blockchain Inc \n",
       "5                     NaN  Vortex Blockchain Technologies Inc \n",
       "6                     NaN                 Riot Blockchain Inc \n",
       "7                     NaN                 Riot Blockchain Inc \n",
       "8                     NaN                 Riot Blockchain Inc \n",
       "9                     NaN                 Riot Blockchain Inc \n",
       "10                    NaN                 Riot Blockchain Inc \n",
       "11                    NaN                Long Blockchain Corp "
      ]
     },
     "execution_count": 8,
     "metadata": {},
     "output_type": "execute_result"
    }
   ],
   "source": [
    "process_html(path,searched_words)"
   ]
  },
  {
   "cell_type": "code",
   "execution_count": null,
   "id": "6f1e9538",
   "metadata": {},
   "outputs": [],
   "source": []
  }
 ],
 "metadata": {
  "kernelspec": {
   "display_name": "Python 3 (ipykernel)",
   "language": "python",
   "name": "python3"
  },
  "language_info": {
   "codemirror_mode": {
    "name": "ipython",
    "version": 3
   },
   "file_extension": ".py",
   "mimetype": "text/x-python",
   "name": "python",
   "nbconvert_exporter": "python",
   "pygments_lexer": "ipython3",
   "version": "3.9.7"
  }
 },
 "nbformat": 4,
 "nbformat_minor": 5
}
