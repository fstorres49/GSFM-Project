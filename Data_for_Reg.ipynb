{
 "cells": [
  {
   "cell_type": "code",
   "execution_count": 1,
   "metadata": {},
   "outputs": [],
   "source": [
    "import pandas as pd"
   ]
  },
  {
   "cell_type": "code",
   "execution_count": 2,
   "metadata": {},
   "outputs": [],
   "source": [
    "df=pd.read_csv(r\"C:\\Users\\LAKSHI\\Downloads\\data_1620_wo0.csv\")"
   ]
  },
  {
   "cell_type": "code",
   "execution_count": 3,
   "metadata": {},
   "outputs": [],
   "source": [
    "a=list(df.loc[df[\"fyear\"]==2016,\"conm\"])\n",
    "b=list(df.loc[df[\"fyear\"]==2017,\"conm\"])\n",
    "c=list(df.loc[df[\"fyear\"]==2018,\"conm\"])\n",
    "d=list(df.loc[df[\"fyear\"]==2019,\"conm\"])\n",
    "e=list(df.loc[df[\"fyear\"]==2020,\"conm\"])"
   ]
  },
  {
   "cell_type": "code",
   "execution_count": 4,
   "metadata": {},
   "outputs": [],
   "source": [
    "o=[value for value in a if value in b]\n",
    "s=[value for value in o if value in c]\n",
    "u=[value for value in s if value in d]\n",
    "k=[value for value in u if value in e]"
   ]
  },
  {
   "cell_type": "code",
   "execution_count": 5,
   "metadata": {},
   "outputs": [],
   "source": [
    "dk=df[df[\"conm\"].isin(k)]"
   ]
  },
  {
   "cell_type": "code",
   "execution_count": 6,
   "metadata": {},
   "outputs": [],
   "source": [
    "dm=dk[~dk[\"fyear\"].isin([2015,2021])]"
   ]
  },
  {
   "cell_type": "code",
   "execution_count": 7,
   "metadata": {},
   "outputs": [],
   "source": [
    "dm.to_csv(r\"C:\\Users\\LAKSHI\\Desktop\\gkt1.csv\")"
   ]
  },
  {
   "cell_type": "code",
   "execution_count": null,
   "metadata": {},
   "outputs": [],
   "source": []
  }
 ],
 "metadata": {
  "kernelspec": {
   "display_name": "Python 3",
   "language": "python",
   "name": "python3"
  },
  "language_info": {
   "codemirror_mode": {
    "name": "ipython",
    "version": 3
   },
   "file_extension": ".py",
   "mimetype": "text/x-python",
   "name": "python",
   "nbconvert_exporter": "python",
   "pygments_lexer": "ipython3",
   "version": "3.8.8"
  }
 },
 "nbformat": 4,
 "nbformat_minor": 2
}
